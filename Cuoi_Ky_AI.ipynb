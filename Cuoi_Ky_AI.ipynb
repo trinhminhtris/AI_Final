{
  "nbformat": 4,
  "nbformat_minor": 0,
  "metadata": {
    "colab": {
      "private_outputs": true,
      "provenance": [],
      "gpuType": "T4",
      "mount_file_id": "1d7-BGEqRmT435wCk6WF6gYD9_72E5R7-",
      "authorship_tag": "ABX9TyOXq1l/dtAA7PLyS7+eDsGu",
      "include_colab_link": true
    },
    "kernelspec": {
      "name": "python3",
      "display_name": "Python 3"
    },
    "language_info": {
      "name": "python"
    },
    "accelerator": "GPU",
    "gpuClass": "standard"
  },
  "cells": [
    {
      "cell_type": "markdown",
      "metadata": {
        "id": "view-in-github",
        "colab_type": "text"
      },
      "source": [
        "<a href=\"https://colab.research.google.com/github/trinhminhtris/AI_Final/blob/main/Cuoi_Ky_AI.ipynb\" target=\"_parent\"><img src=\"https://colab.research.google.com/assets/colab-badge.svg\" alt=\"Open In Colab\"/></a>"
      ]
    },
    {
      "cell_type": "code",
      "execution_count": null,
      "metadata": {
        "id": "TP30NWBPiQZI"
      },
      "outputs": [],
      "source": [
        "from os import listdir\n",
        "from numpy import asarray\n",
        "from numpy import save\n",
        "from keras.utils import load_img, img_to_array\n",
        "\n",
        "folder = '/content/drive/MyDrive/AI/Cuoi_ky_AI/Vehicle/'\n",
        "photos, labels = list(), list()\n",
        "for file in listdir(folder):\n",
        "  output = 0.0\n",
        "  if file.startswith('Honda_Vision_Black '):\n",
        "    output = 1.0\n",
        "  if file.startswith('Honda_Vision_Red '):\n",
        "    output = 2.0\n",
        "  if file.startswith('Honda_Vision_White '):\n",
        "    output = 3.0\n",
        "  if file.startswith('Honda_Wave_Black '):\n",
        "    output = 4.0\n",
        "  if file.startswith('Honda_Wave_Red '):\n",
        "    output = 5.0\n",
        "  if file.startswith('Honda_Wave_White '):\n",
        "    output = 6.0\n",
        "  if file.startswith('Winner_Black '):\n",
        "    output = 7.0\n",
        "  if file.startswith('Honda_Winner_Red '):\n",
        "    output = 8.0\n",
        "  if file.startswith('Exciter_Black '):\n",
        "    output = 9.0\n",
        "  if file.startswith('Exciter_Blue '):\n",
        "    output = 10.0\n",
        "  if file.startswith('Exciter_Red '):\n",
        "    output = 11.0\n",
        "  if file.startswith('Janus_Black '):\n",
        "    output = 12.0\n",
        "  if file.startswith('Yamaha_Janus_Red '):\n",
        "    output = 13.0\n",
        "  if file.startswith('Janus_White '):\n",
        "    output = 14.0\n",
        "  if file.startswith('Sirius_Black '):\n",
        "    output = 15.0\n",
        "  if file.startswith('Sirius_Red '):\n",
        "    output = 16.0\n",
        "  if file.startswith('Sirius_White '):\n",
        "    output = 17.0\n",
        "  \n",
        "  img = load_img(folder + file, target_size = (300,300))\n",
        "  photo = img_to_array(img)\n",
        "  photos.append(photo)\n",
        "  labels.append(output)\n",
        "\n",
        "photos = asarray(photos)\n",
        "labels = asarray(labels)\n",
        "\n",
        "print(photos.shape,labels.shape)\n",
        "save('Vehicle_photos_train.npy', photos)\n",
        "save('Vehicle_labels_train.npy', labels)"
      ]
    },
    {
      "cell_type": "code",
      "source": [
        "import matplotlib.pyplot as plt\n",
        "from matplotlib.image import imread\n",
        "for i in range (72):\n",
        "  plt.subplot(8, 9, i+1)\n",
        "  filename = folder + 'Honda_Vision_Black ('+ str(i+1) + ').jpg'\n",
        "  img1 = imread(filename)\n",
        "  plt.imshow(img1)\n",
        "plt.show() "
      ],
      "metadata": {
        "id": "k4VmPIqpm5dC"
      },
      "execution_count": null,
      "outputs": []
    },
    {
      "cell_type": "code",
      "source": [
        "import numpy as np\n",
        "x_train = np.load('/content/drive/MyDrive/AI/Cuoi_ky_AI/Vehicle_photos_train.npy')\n",
        "y_train = np.load('/content/drive/MyDrive/AI/Cuoi_ky_AI/Vehicle_labels_train.npy')"
      ],
      "metadata": {
        "id": "YQEgcJSao6bS"
      },
      "execution_count": null,
      "outputs": []
    },
    {
      "cell_type": "code",
      "source": [
        "x_train = x_train.astype('float32')/255\n",
        "from keras.utils import to_categorical\n",
        "y_train = to_categorical(y_train, 100)"
      ],
      "metadata": {
        "id": "RyuXobL4pSXR"
      },
      "execution_count": null,
      "outputs": []
    },
    {
      "cell_type": "code",
      "source": [
        "from keras.models import Sequential\n",
        "from keras.layers import Dense,Dropout,Flatten,Conv2D,MaxPooling2D,Normalization,LeakyReLU\n",
        "from keras.optimizers import Adam\n",
        "\n",
        "# 32 lan tich chap\n",
        "model = Sequential()\n",
        "model.add(Conv2D(32,kernel_size = (3,3),activation = 'relu',input_shape=(300,300,3),padding='Same'))\n",
        "model.add(MaxPooling2D((2,2),padding='same'))\n",
        "model.add(Dropout(0.25))\n",
        "\n",
        "# 64 lan tich chap\n",
        "model.add(Conv2D(64,(3,3),activation ='relu',padding ='same'))\n",
        "model.add(MaxPooling2D((2,2),padding='same'))\n",
        "model.add(Dropout(0.25))\n",
        "\n",
        "# 128 lan tich chap\n",
        "model.add(Conv2D(128,(3,3),activation ='relu',padding ='same'))\n",
        "model.add(MaxPooling2D((2,2),padding='same'))\n",
        "model.add(Dropout(0.25))\n",
        "\n",
        "# 256 lan tich chap\n",
        "model.add(Conv2D(256,(3,3),activation ='relu',padding ='same'))\n",
        "model.add(MaxPooling2D((2,2),padding='same'))\n",
        "model.add(Dropout(0.25))\n",
        "\n",
        "# 512 lan tich chap\n",
        "model.add(Conv2D(512,(3,3),activation ='relu',padding ='same'))\n",
        "model.add(MaxPooling2D((2,2),padding='same'))\n",
        "model.add(Dropout(0.25))\n",
        "\n",
        "model.add(Flatten())\n",
        "model.add(Dense(64,activation = 'relu'))\n",
        "model.add(Dropout(0.25))\n",
        "model.add(Dense(100,activation='softmax'))\n",
        "\n",
        "from keras.losses import categorical_crossentropy\n",
        "model.compile(loss = categorical_crossentropy,optimizer = Adam(),metrics=['accuracy'])\n",
        "model.summary()\n",
        "train = model.fit(x_train, y_train,batch_size=32, epochs = 100,verbose = 1)\n",
        "\n"
      ],
      "metadata": {
        "id": "B-6nEnqkpbf3"
      },
      "execution_count": null,
      "outputs": []
    },
    {
      "cell_type": "code",
      "source": [
        "model.save('Vehicle_train.h5')"
      ],
      "metadata": {
        "id": "3hDX8Zd3qh0f"
      },
      "execution_count": null,
      "outputs": []
    },
    {
      "cell_type": "code",
      "source": [
        "from keras.models import load_model\n",
        "model1 = load_model('/content/drive/MyDrive/AI/Cuoi_ky_AI/Vehicle_train.h5')\n",
        "\n",
        "#load ảnh và cho AI tiến hành nhận diện\n",
        "import matplotlib.pyplot as plt\n",
        "from keras.utils import load_img\n",
        "from keras.utils.image_utils import img_to_array\n",
        "import numpy as np\n",
        "\n",
        "vat = {1: 'Honda Vision Black', 2:'Honda Vision Red', 3:'Honda Vision White', \n",
        "       4:'Honda WaveAlpha Black', 5:'Honda WaveAlpha Red', 6:'Honda WaveAlpha White',\n",
        "       7:'Honda WinnerX Black', 8:'Honda WinnerX Red',\n",
        "       9:'Yamaha Exciter Black', 10:'Yamaha Exciter Blue', 11:'Yamaha Exciter Red',\n",
        "       12:'Yamaha Janus Black', 13:'Yamaha Yanus Red', 14:'Yamaha Janus White',\n",
        "       15:'Yamaha Sirius Black', 16:'Yamaha Sirius Red', 17:'Yamaha Sirius White'}\n",
        "\n",
        "img = load_img(\"/content/drive/MyDrive/AI/Cuoi_ky_AI/test/wave_den (4).jpg\",target_size=(300, 300))\n",
        "plt.imshow(img)\n",
        "img = img_to_array(img)\n",
        "img = img.reshape(1,300,300,3)\n",
        "img = img.astype('float32')\n",
        "img =img/255\n",
        "result  = np.argmax(model1.predict(img),axis=1)\n",
        "vat[result[0]]"
      ],
      "metadata": {
        "id": "w5ZYpadj1eyg"
      },
      "execution_count": null,
      "outputs": []
    },
    {
      "cell_type": "code",
      "source": [],
      "metadata": {
        "id": "Rcdo4KCNDdZq"
      },
      "execution_count": null,
      "outputs": []
    }
  ]
}